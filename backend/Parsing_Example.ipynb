{
 "cells": [
  {
   "cell_type": "markdown",
   "metadata": {},
   "source": [
    "# Parsing\n",
    "\n",
    "Prior to entry in the model, the code will be parsed into a dependency structure. We do this to maximize the value of each 1-1 sample of code, since ordering of independent clauses is arbitrary."
   ]
  },
  {
   "cell_type": "code",
   "execution_count": 10,
   "metadata": {},
   "outputs": [
    {
     "name": "stdout",
     "output_type": "stream",
     "text": [
      "Nodes:\n",
      "Line 2: x\n",
      "Line 3: y\n",
      "Line 4: z\n",
      "Line 5: sink\n",
      "\n",
      "Edges:\n",
      "Line 2 -> Line 3\n",
      "Line 2 -> Line 5\n",
      "Line 3 -> Line 5\n",
      "Line 4 -> Line 5\n"
     ]
    }
   ],
   "source": [
    "import esprima\n",
    "import networkx as nx\n",
    "\n",
    "def parse_js_code(js_code):\n",
    "    return esprima.parseScript(js_code, loc=True)\n",
    "\n",
    "def create_dependency_graph(ast):\n",
    "    G = nx.DiGraph()\n",
    "    variables = {}\n",
    "    \n",
    "    # Traverse AST to identify variable declarations and their dependencies\n",
    "    for statement in ast.body:\n",
    "        if statement.type == 'VariableDeclaration':\n",
    "            for declaration in statement.declarations:\n",
    "                var_name = declaration.id.name\n",
    "                var_line = declaration.loc.start.line\n",
    "                if declaration.init:\n",
    "                    dependencies = find_dependencies(declaration.init)\n",
    "                    G.add_node(var_line, label=var_name)\n",
    "                    for dep in dependencies:\n",
    "                        if dep in variables:\n",
    "                            G.add_edge(variables[dep], var_line)\n",
    "                else:\n",
    "                    G.add_node(var_line, label=var_name)\n",
    "                variables[var_name] = var_line\n",
    "    return G\n",
    "\n",
    "def find_dependencies(expression):\n",
    "    dependencies = []\n",
    "    if expression.type == 'BinaryExpression':\n",
    "        dependencies += find_dependencies(expression.left)\n",
    "        dependencies += find_dependencies(expression.right)\n",
    "    elif expression.type == 'Identifier':\n",
    "        dependencies.append(expression.name)\n",
    "    elif expression.type == 'CallExpression':\n",
    "        if expression.callee.type == 'Identifier':\n",
    "            dependencies.append(expression.callee.name)\n",
    "        for arg in expression.arguments:\n",
    "            dependencies += find_dependencies(arg)\n",
    "    return dependencies\n",
    "\n",
    "def print_graph(G):\n",
    "    print(\"Nodes:\")\n",
    "    for node, data in G.nodes(data=True):\n",
    "        print(f\"Line {node}: {data['label']}\")\n",
    "    print(\"\\nEdges:\")\n",
    "    for u, v in G.edges():\n",
    "        print(f\"Line {u} -> Line {v}\")\n",
    "\n",
    "js_code = \"\"\"\n",
    "var x = 1;\n",
    "var y = x + 1;\n",
    "var z = 12;\n",
    "var sink = x + y + z;\n",
    "\"\"\"\n",
    "\n",
    "js_ast = parse_js_code(js_code)\n",
    "graph = create_dependency_graph(js_ast)\n",
    "print_graph(graph)\n"
   ]
  },
  {
   "cell_type": "code",
   "execution_count": 11,
   "metadata": {},
   "outputs": [
    {
     "data": {
      "text/plain": [
       "[[4, 2, 3, 5], [2, 3, 4, 5], [2, 4, 3, 5]]"
      ]
     },
     "execution_count": 11,
     "metadata": {},
     "output_type": "execute_result"
    }
   ],
   "source": [
    "def all_topological_sorts(G):\n",
    "    return [nodes for nodes in nx.all_topological_sorts(G)]\n",
    "\n",
    "all_topological_sorts(graph)"
   ]
  },
  {
   "cell_type": "code",
   "execution_count": 14,
   "metadata": {},
   "outputs": [
    {
     "name": "stdout",
     "output_type": "stream",
     "text": [
      "Nodes:\n",
      "Line 2: x\n",
      "Line 3: y\n",
      "Line 4: z\n",
      "Line 5: sink\n",
      "\n",
      "Edges:\n",
      "Line 2 -> Line 3\n",
      "Line 2 -> Line 5\n",
      "Line 3 -> Line 5\n",
      "Line 4 -> Line 5\n"
     ]
    }
   ],
   "source": [
    "def collapse_sccs(G):\n",
    "    # for each strongly connected component, collapse it into a single node whose value is all the strings of each node concatenated\n",
    "    sccs = nx.strongly_connected_components(G)\n",
    "    for scc in sccs:\n",
    "        if len(scc) > 1:\n",
    "            new_node = ''.join([G.nodes[node]['label'] for node in scc])\n",
    "            G.add_node(new_node)\n",
    "            G.remove_nodes_from(scc)\n",
    "            for pred in G.predecessors(scc.pop()):\n",
    "                G.add_edge(pred, new_node)\n",
    "    return G\n",
    "\n",
    "print_graph(collapse_sccs(graph))"
   ]
  }
 ],
 "metadata": {
  "kernelspec": {
   "display_name": "base",
   "language": "python",
   "name": "python3"
  },
  "language_info": {
   "codemirror_mode": {
    "name": "ipython",
    "version": 3
   },
   "file_extension": ".py",
   "mimetype": "text/x-python",
   "name": "python",
   "nbconvert_exporter": "python",
   "pygments_lexer": "ipython3",
   "version": "3.11.7"
  }
 },
 "nbformat": 4,
 "nbformat_minor": 2
}
