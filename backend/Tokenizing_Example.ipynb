{
 "cells": [
  {
   "cell_type": "code",
   "execution_count": 1,
   "metadata": {},
   "outputs": [
    {
     "name": "stdout",
     "output_type": "stream",
     "text": [
      "{'input_ids': [101, 8667, 117, 1293, 1132, 1128, 102], 'token_type_ids': [0, 0, 0, 0, 0, 0, 0], 'attention_mask': [1, 1, 1, 1, 1, 1, 1]}\n",
      "['[CLS]', 'Hello', ',', 'how', 'are', 'you', '[SEP]']\n",
      "8667\n"
     ]
    }
   ],
   "source": [
    "from transformers import AutoTokenizer\n",
    "\n",
    "# Load the pretrained tokenizer\n",
    "tokenizer = AutoTokenizer.from_pretrained(\"bert-base-cased\")\n",
    "\n",
    "# Example sentence\n",
    "sentence = \"Hello, how are you\"\n",
    "\n",
    "# Tokenize the sentence without returning tensors\n",
    "encoded_input = tokenizer(sentence)\n",
    "\n",
    "# Print the encoded inputs\n",
    "print(encoded_input)\n",
    "\n",
    "# Decode the input IDs to get subwords (tokens)\n",
    "tokens = tokenizer.convert_ids_to_tokens(encoded_input['input_ids'])\n",
    "\n",
    "# Print the tokens\n",
    "print(tokens)\n",
    "print(tokenizer.get_vocab()['Hello'])"
   ]
  },
  {
   "cell_type": "code",
   "execution_count": 2,
   "metadata": {},
   "outputs": [],
   "source": [
    "from utils.code_tokenizer import CodeTokenizer\n",
    "from pygments.lexers import DartLexer\n",
    "\n",
    "flutter_code_tokenizer = CodeTokenizer(DartLexer())"
   ]
  },
  {
   "cell_type": "code",
   "execution_count": 3,
   "metadata": {},
   "outputs": [
    {
     "name": "stdout",
     "output_type": "stream",
     "text": [
      "(Token.Keyword, 'import')\n",
      "(Token.Text.Whitespace, ' ')\n",
      "(Token.Literal.String.Single, \"'\")\n",
      "(Token.Literal.String.Single, 'package:flutter/material.dart')\n",
      "(Token.Literal.String.Single, \"'\")\n",
      "(Token.Punctuation, ';')\n",
      "(Token.Text.Whitespace, '\\n')\n",
      "(Token.Keyword.Declaration, 'var')\n",
      "(Token.Text.Whitespace, ' ')\n",
      "(Token.Name, 'double_volume')\n",
      "(Token.Text.Whitespace, ' ')\n",
      "(Token.Operator, '=')\n",
      "(Token.Text.Whitespace, ' ')\n",
      "(Token.Keyword, 'new')\n",
      "(Token.Text.Whitespace, ' ')\n",
      "(Token.Name, 'List')\n",
      "(Token.Punctuation, '(')\n",
      "(Token.Punctuation, ')')\n",
      "(Token.Punctuation, ';')\n",
      "(Token.Text.Whitespace, '\\n')\n",
      "(Token.Name, 'setState')\n",
      "(Token.Punctuation, '(')\n",
      "(Token.Punctuation, '{')\n",
      "(Token.Punctuation, '}')\n",
      "(Token.Punctuation, ')')\n",
      "(Token.Punctuation, ';')\n",
      "(Token.Text.Whitespace, '\\n')\n",
      "(Token.Keyword.Declaration, 'final')\n",
      "(Token.Text.Whitespace, ' ')\n",
      "(Token.Keyword.Type, 'bool')\n",
      "(Token.Text.Whitespace, ' ')\n",
      "(Token.Name, 'showSemanticsDebugger')\n",
      "(Token.Punctuation, ';')\n",
      "(Token.Text.Whitespace, '\\n')\n",
      "(Token.Comment.Single, '// This is a comment')\n",
      "(Token.Text.Whitespace, '\\n')\n"
     ]
    }
   ],
   "source": [
    "code = '''\n",
    "import 'package:flutter/material.dart';\n",
    "var double_volume = new List();\n",
    "setState({});\n",
    "final bool showSemanticsDebugger;\n",
    "// This is a comment'''\n",
    "tokens = flutter_code_tokenizer.lex_code(code)\n",
    "\n",
    "for token in tokens:\n",
    "    print(token)"
   ]
  },
  {
   "cell_type": "code",
   "execution_count": 4,
   "metadata": {},
   "outputs": [
    {
     "name": "stdout",
     "output_type": "stream",
     "text": [
      "import\n",
      " \n",
      "'\n",
      "package\n",
      ":\n",
      "flutter\n",
      "/\n",
      "material\n",
      ".\n",
      "dart\n",
      "'\n",
      ";\n",
      "\n",
      "\n",
      "var\n",
      " \n",
      "double\n",
      "_\n",
      "volume\n",
      " \n",
      "=\n",
      " \n",
      "new\n",
      " \n",
      "List\n",
      "(\n",
      ")\n",
      ";\n",
      "\n",
      "\n",
      "set\n",
      "##S\n",
      "##tate\n",
      "(\n",
      "{\n",
      "}\n",
      ")\n",
      ";\n",
      "\n",
      "\n",
      "final\n",
      " \n",
      "bool\n",
      " \n",
      "show\n",
      "##S\n",
      "##eman\n",
      "##tics\n",
      "##D\n",
      "##eb\n",
      "##ug\n",
      "##ger\n",
      ";\n",
      "\n",
      "\n",
      "/\n",
      "/\n",
      "This\n",
      "is\n",
      "a\n",
      "comment\n",
      "\n",
      "\n"
     ]
    }
   ],
   "source": [
    "all_tokens = flutter_code_tokenizer.tokenize(code)\n",
    "# convert generator to list\n",
    "all_tokens = list(all_tokens)\n",
    "for token in all_tokens:\n",
    "    print(token)"
   ]
  }
 ],
 "metadata": {
  "kernelspec": {
   "display_name": "base",
   "language": "python",
   "name": "python3"
  },
  "language_info": {
   "codemirror_mode": {
    "name": "ipython",
    "version": 3
   },
   "file_extension": ".py",
   "mimetype": "text/x-python",
   "name": "python",
   "nbconvert_exporter": "python",
   "pygments_lexer": "ipython3",
   "version": "3.11.7"
  }
 },
 "nbformat": 4,
 "nbformat_minor": 2
}
