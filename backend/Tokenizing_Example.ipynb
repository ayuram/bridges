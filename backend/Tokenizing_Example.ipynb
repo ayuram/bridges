{
 "cells": [
  {
   "cell_type": "code",
   "execution_count": 1,
   "metadata": {},
   "outputs": [
    {
     "name": "stdout",
     "output_type": "stream",
     "text": [
      "{'input_ids': [101, 8667, 117, 1293, 1132, 1128, 119, 2091, 1128, 1631, 6062, 119, 1192, 1132, 170, 11303, 1200, 136, 102], 'token_type_ids': [0, 0, 0, 0, 0, 0, 0, 0, 0, 0, 0, 0, 0, 0, 0, 0, 0, 0, 0], 'attention_mask': [1, 1, 1, 1, 1, 1, 1, 1, 1, 1, 1, 1, 1, 1, 1, 1, 1, 1, 1]}\n",
      "['[CLS]', 'Hello', ',', 'how', 'are', 'you', '.', 'Do', 'you', 'feel', 'comfortable', '.', 'You', 'are', 'a', 'transform', '##er', '?', '[SEP]']\n"
     ]
    }
   ],
   "source": [
    "from transformers import AutoTokenizer\n",
    "\n",
    "# Load the pretrained tokenizer\n",
    "tokenizer = AutoTokenizer.from_pretrained(\"bert-base-cased\")\n",
    "\n",
    "# Example sentence\n",
    "sentence = \"Hello, how are you. Do you feel comfortable. You are a transformer?\"\n",
    "\n",
    "# Tokenize the sentence without returning tensors\n",
    "encoded_input = tokenizer(sentence)\n",
    "\n",
    "# Print the encoded inputs\n",
    "print(encoded_input)\n",
    "\n",
    "# Decode the input IDs to get subwords (tokens)\n",
    "tokens = tokenizer.convert_ids_to_tokens(encoded_input['input_ids'])\n",
    "\n",
    "# Print the tokens\n",
    "print(tokens)\n"
   ]
  },
  {
   "cell_type": "code",
   "execution_count": 2,
   "metadata": {},
   "outputs": [],
   "source": [
    "from utils.code_tokenizer import CodeTokenizer\n",
    "from pygments.lexers import DartLexer\n",
    "\n",
    "flutter_code_tokenizer = CodeTokenizer(DartLexer())"
   ]
  },
  {
   "cell_type": "code",
   "execution_count": 9,
   "metadata": {},
   "outputs": [
    {
     "name": "stdout",
     "output_type": "stream",
     "text": [
      "(Token.Keyword, 'import')\n",
      "(Token.Text.Whitespace, ' ')\n",
      "(Token.Literal.String.Single, \"'\")\n",
      "(Token.Literal.String.Single, 'package:flutter/material.dart')\n",
      "(Token.Literal.String.Single, \"'\")\n",
      "(Token.Punctuation, ';')\n",
      "(Token.Text.Whitespace, '\\n')\n",
      "(Token.Keyword.Declaration, 'var')\n",
      "(Token.Text.Whitespace, ' ')\n",
      "(Token.Name, 'double_volume')\n",
      "(Token.Text.Whitespace, ' ')\n",
      "(Token.Operator, '=')\n",
      "(Token.Text.Whitespace, ' ')\n",
      "(Token.Literal.Number, '0.0')\n",
      "(Token.Punctuation, ';')\n",
      "(Token.Text.Whitespace, '\\n')\n",
      "(Token.Comment.Single, '// This is a comment')\n",
      "(Token.Text.Whitespace, '\\n')\n"
     ]
    }
   ],
   "source": [
    "code = '''\n",
    "import 'package:flutter/material.dart';\n",
    "var double_volume = 0.0;\n",
    "// This is a comment\n",
    "'''\n",
    "tokens = flutter_code_tokenizer.lex_code(code)\n",
    "\n",
    "for token in tokens:\n",
    "    print(token)"
   ]
  },
  {
   "cell_type": "code",
   "execution_count": 7,
   "metadata": {},
   "outputs": [
    {
     "name": "stdout",
     "output_type": "stream",
     "text": [
      "['import', ' ', '[CLS]', \"'\", '[SEP]', '[CLS]', 'package', ':', 'flutter', '/', 'material', '.', 'dart', '[SEP]', '[CLS]', \"'\", '[SEP]', ';', '\\n', 'var', ' ', '[CLS]', 'double', '_', 'volume', '[SEP]', ' ', '=', ' ', '[CLS]', '0', '.', '0', '[SEP]', ';', '\\n', '// This is a comment', '\\n']\n"
     ]
    }
   ],
   "source": [
    "all_tokens = flutter_code_tokenizer.tokenize(code)\n",
    "# convert generator to list\n",
    "all_tokens = list(all_tokens)\n",
    "print(all_tokens)"
   ]
  }
 ],
 "metadata": {
  "kernelspec": {
   "display_name": "base",
   "language": "python",
   "name": "python3"
  },
  "language_info": {
   "codemirror_mode": {
    "name": "ipython",
    "version": 3
   },
   "file_extension": ".py",
   "mimetype": "text/x-python",
   "name": "python",
   "nbconvert_exporter": "python",
   "pygments_lexer": "ipython3",
   "version": "3.11.7"
  }
 },
 "nbformat": 4,
 "nbformat_minor": 2
}
